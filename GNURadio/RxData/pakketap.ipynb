{
 "cells": [
  {
   "cell_type": "code",
   "execution_count": 8,
   "id": "41ff5ca3",
   "metadata": {},
   "outputs": [],
   "source": [
    "def tell_pakketap(filnavn):\n",
    "    mottatte_pakker = set()\n",
    "\n",
    "    try:\n",
    "        with open(filnavn, \"r\") as f:\n",
    "            for linje in f:\n",
    "                linje = linje.strip()\n",
    "                if \"DataNr\" in linje:\n",
    "                    try:\n",
    "                        nr = int(linje.split(\"DataNr\")[1])\n",
    "                        mottatte_pakker.add(nr)\n",
    "                    except:\n",
    "                        continue\n",
    "    except FileNotFoundError:\n",
    "        print(f\"Finner ikke fila: {filnavn}\")\n",
    "        return\n",
    "\n",
    "    if not mottatte_pakker:\n",
    "        print(\"Ingen pakker funnet.\")\n",
    "        return\n",
    "\n",
    "    første = min(mottatte_pakker)\n",
    "    siste = max(mottatte_pakker)\n",
    "    forventet = 1000\n",
    "    mottatt = len(mottatte_pakker)\n",
    "    tapte = forventet - mottatt\n",
    "\n",
    "    print(f\"Første pakke    : {første}\")\n",
    "    print(f\"Siste pakke     : {siste}\")\n",
    "    print(f\"Forventet pakker: {forventet}\")\n",
    "    print(f\"Mottatt pakker  : {mottatt} ({mottatt / forventet * 100:.2f}%)\")\n",
    "    print(f\"Tapte pakker    : {tapte} ({tapte / forventet * 100:.2f}%)\")\n",
    "\n",
    "    if tapte > 0:\n",
    "        mangler = sorted(set(range(første + 1, siste)) - mottatte_pakker)\n",
    "        print(f\"Første 10 tapte pakker: {mangler[:10]}\")"
   ]
  },
  {
   "cell_type": "code",
   "execution_count": 12,
   "id": "2ffcc359",
   "metadata": {},
   "outputs": [
    {
     "name": "stdout",
     "output_type": "stream",
     "text": [
      "Pakkeanalyse\n",
      "=========================\n",
      "Avstand: 2.5 m\n",
      "--------------------------\n",
      "Første pakke    : 2\n",
      "Siste pakke     : 998\n",
      "Forventet pakker: 1000\n",
      "Mottatt pakker  : 676 (67.60%)\n",
      "Tapte pakker    : 324 (32.40%)\n",
      "Første 10 tapte pakker: [8, 14, 17, 21, 22, 24, 27, 33, 35, 36]\n",
      "=========================\n",
      "Avstand: 5.0 m\n",
      "--------------------------\n",
      "Første pakke    : 2\n",
      "Siste pakke     : 997\n",
      "Forventet pakker: 1000\n",
      "Mottatt pakker  : 701 (70.10%)\n",
      "Tapte pakker    : 299 (29.90%)\n",
      "Første 10 tapte pakker: [7, 11, 16, 18, 19, 20, 21, 24, 26, 34]\n",
      "=========================\n",
      "Avstand: 7.5 m\n",
      "--------------------------\n",
      "Første pakke    : 1\n",
      "Siste pakke     : 998\n",
      "Forventet pakker: 1000\n",
      "Mottatt pakker  : 715 (71.50%)\n",
      "Tapte pakker    : 285 (28.50%)\n",
      "Første 10 tapte pakker: [4, 6, 10, 13, 14, 21, 24, 30, 35, 38]\n"
     ]
    }
   ],
   "source": [
    "print(\"Pakkeanalyse\")\n",
    "print(\"=========================\")\n",
    "print(\"Avstand: 2.5 m\")\n",
    "print(\"--------------------------\")\n",
    "tell_pakketap(\"2_5m.txt\")\n",
    "print(\"=========================\")\n",
    "print(\"Avstand: 5.0 m\")\n",
    "print(\"--------------------------\")\n",
    "tell_pakketap(\"5_0m.txt\")\n",
    "print(\"=========================\")\n",
    "print(\"Avstand: 7.5 m\")\n",
    "print(\"--------------------------\")\n",
    "tell_pakketap(\"7_5m.txt\")"
   ]
  }
 ],
 "metadata": {
  "kernelspec": {
   "display_name": "Python 3",
   "language": "python",
   "name": "python3"
  },
  "language_info": {
   "codemirror_mode": {
    "name": "ipython",
    "version": 3
   },
   "file_extension": ".py",
   "mimetype": "text/x-python",
   "name": "python",
   "nbconvert_exporter": "python",
   "pygments_lexer": "ipython3",
   "version": "3.13.0"
  }
 },
 "nbformat": 4,
 "nbformat_minor": 5
}
